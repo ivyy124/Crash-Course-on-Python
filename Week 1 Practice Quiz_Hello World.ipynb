{
 "cells": [
  {
   "cell_type": "markdown",
   "id": "f0799e04",
   "metadata": {},
   "source": [
    "### Question 1\n",
    "What are functions in Python?"
   ]
  },
  {
   "cell_type": "markdown",
   "id": "cc110b99",
   "metadata": {},
   "source": [
    "Ans: Functions are pieces of code that perform a unit of work."
   ]
  },
  {
   "cell_type": "markdown",
   "id": "ac53d356",
   "metadata": {},
   "source": [
    "### Question 2\n",
    "What are keywords in Python?"
   ]
  },
  {
   "cell_type": "markdown",
   "id": "d12c0895",
   "metadata": {},
   "source": [
    "Ans:\n",
    "Keywords are reserved words that are used to construct instructions."
   ]
  },
  {
   "cell_type": "markdown",
   "id": "45bdde10",
   "metadata": {},
   "source": [
    "### Question 3\n",
    "What does the print function do in Python?"
   ]
  },
  {
   "cell_type": "markdown",
   "id": "2f1f64ab",
   "metadata": {},
   "source": [
    "Ans: \n",
    "The print function outputs messages to the screen"
   ]
  },
  {
   "cell_type": "markdown",
   "id": "0893a7e1",
   "metadata": {},
   "source": [
    "### Question 4\n",
    "Output a message that says \"Programming in Python is fun!\" to the screen."
   ]
  },
  {
   "cell_type": "code",
   "execution_count": 1,
   "id": "eebde685",
   "metadata": {},
   "outputs": [
    {
     "name": "stdout",
     "output_type": "stream",
     "text": [
      "Programming in Python is fun!\n"
     ]
    }
   ],
   "source": [
    "print(\"Programming in Python is fun!\")"
   ]
  },
  {
   "cell_type": "markdown",
   "id": "ffe127ff",
   "metadata": {},
   "source": [
    "### Question 5\n",
    "Replace the ___ placeholder and calculate the Golden ratio:  (1+sqrt(5))/2 <br />\n",
    "Tip: to calculate the square root of a number xx, you can use x**(1/2)."
   ]
  },
  {
   "cell_type": "code",
   "execution_count": 2,
   "id": "f44c9934",
   "metadata": {},
   "outputs": [
    {
     "name": "stdout",
     "output_type": "stream",
     "text": [
      "1.618033988749895\n"
     ]
    }
   ],
   "source": [
    "ratio = (1 + 5**(1/2))/2\n",
    "print(ratio)"
   ]
  }
 ],
 "metadata": {
  "kernelspec": {
   "display_name": "Python 3",
   "language": "python",
   "name": "python3"
  },
  "language_info": {
   "codemirror_mode": {
    "name": "ipython",
    "version": 3
   },
   "file_extension": ".py",
   "mimetype": "text/x-python",
   "name": "python",
   "nbconvert_exporter": "python",
   "pygments_lexer": "ipython3",
   "version": "3.8.8"
  }
 },
 "nbformat": 4,
 "nbformat_minor": 5
}
