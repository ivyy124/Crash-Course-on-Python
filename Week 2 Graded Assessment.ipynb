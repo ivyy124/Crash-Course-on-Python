{
 "cells": [
  {
   "cell_type": "markdown",
   "id": "f0799e04",
   "metadata": {},
   "source": [
    "### Question 1\n",
    "Complete the function by filling in the missing parts. The color_translator function receives the name of a color, then prints its hexadecimal value. Currently, it only supports the three additive primary colors (red, green, blue), so it returns \"unknown\" for all other colors."
   ]
  },
  {
   "cell_type": "code",
   "execution_count": 1,
   "id": "394202a7",
   "metadata": {},
   "outputs": [
    {
     "name": "stdout",
     "output_type": "stream",
     "text": [
      "#0000ff\n",
      "unknown\n",
      "#ff0000\n",
      "unknown\n",
      "#00ff00\n",
      "unknown\n"
     ]
    }
   ],
   "source": [
    "def color_translator(color):\n",
    "    if color == \"red\":\n",
    "        hex_color = \"#ff0000\"\n",
    "    elif color == \"green\":\n",
    "        hex_color = \"#00ff00\"\n",
    "    elif color == \"blue\":\n",
    "        hex_color = \"#0000ff\"\n",
    "    else:\n",
    "        hex_color = \"unknown\"\n",
    "    return hex_color\n",
    "\n",
    "print(color_translator(\"blue\")) # Should be #0000ff\n",
    "print(color_translator(\"yellow\")) # Should be unknown\n",
    "print(color_translator(\"red\")) # Should be #ff0000\n",
    "print(color_translator(\"black\")) # Should be unknown\n",
    "print(color_translator(\"green\")) # Should be #00ff00\n",
    "print(color_translator(\"\")) # Should be unknown"
   ]
  },
  {
   "cell_type": "markdown",
   "id": "ac53d356",
   "metadata": {},
   "source": [
    "### Question 2\n",
    "What's the value of this Python expression: \"big\" > \"small\""
   ]
  },
  {
   "cell_type": "markdown",
   "id": "bc3e91b7",
   "metadata": {},
   "source": [
    "Ans: \n",
    "False"
   ]
  },
  {
   "cell_type": "markdown",
   "id": "45bdde10",
   "metadata": {},
   "source": [
    "### Question 3\n",
    "What is the elif keyword used for?"
   ]
  },
  {
   "cell_type": "markdown",
   "id": "27e97d04",
   "metadata": {},
   "source": [
    "Ans: To handle more than two comparison cases"
   ]
  },
  {
   "cell_type": "markdown",
   "id": "0893a7e1",
   "metadata": {},
   "source": [
    "### Question 4\n",
    "Students in a class receive their grades as Pass/Fail. Scores of 60 or more (out of 100) mean that the grade is \"Pass\". For lower scores, the grade is \"Fail\". In addition, scores above 95 (not included) are graded as \"Top Score\". Fill in this function so that it returns the proper grade."
   ]
  },
  {
   "cell_type": "code",
   "execution_count": 5,
   "id": "cb6047a9",
   "metadata": {},
   "outputs": [
    {
     "name": "stdout",
     "output_type": "stream",
     "text": [
      "Pass\n",
      "Fail\n",
      "Pass\n",
      "Pass\n",
      "Top Score\n",
      "Fail\n"
     ]
    }
   ],
   "source": [
    "def exam_grade(score):\n",
    "    if score > 95:\n",
    "        grade = \"Top Score\"\n",
    "    elif score >= 60:\n",
    "        grade = \"Pass\"\n",
    "    else:\n",
    "        grade = \"Fail\"\n",
    "    return grade\n",
    "\n",
    "print(exam_grade(65)) # Should be Pass\n",
    "print(exam_grade(55)) # Should be Fail\n",
    "print(exam_grade(60)) # Should be Pass\n",
    "print(exam_grade(95)) # Should be Pass\n",
    "print(exam_grade(100)) # Should be Top Score\n",
    "print(exam_grade(0)) # Should be Fail"
   ]
  },
  {
   "cell_type": "markdown",
   "id": "ffe127ff",
   "metadata": {},
   "source": [
    "### Question 5\n",
    "What's the value of this Python expression: 11 % 5?"
   ]
  },
  {
   "cell_type": "markdown",
   "id": "45c77efe",
   "metadata": {},
   "source": [
    "Ans: 1"
   ]
  },
  {
   "cell_type": "markdown",
   "id": "e24221de",
   "metadata": {},
   "source": [
    "### Question 6\n",
    "Complete the body of the format_name function. This function receives the first_name and last_name parameters and then returns a properly formatted string."
   ]
  },
  {
   "cell_type": "code",
   "execution_count": 7,
   "id": "b3870ee5",
   "metadata": {},
   "outputs": [
    {
     "name": "stdout",
     "output_type": "stream",
     "text": [
      "Name: Hemingway, Ernest\n",
      "Name: Madonna\n",
      "Name: Voltaire\n",
      "\n"
     ]
    }
   ],
   "source": [
    "def format_name(first_name, last_name):\n",
    "    # code goes here\n",
    "    if first_name == \"\" and last_name == \"\":\n",
    "        string = \"\"\n",
    "    elif first_name == \"\":\n",
    "        string = \"Name: \" + last_name\n",
    "    elif last_name == \"\":\n",
    "        string = \"Name: \" + first_name\n",
    "    else:\n",
    "        string = \"Name: \" + last_name + \", \" + first_name\n",
    "    return string \n",
    "\n",
    "print(format_name(\"Ernest\", \"Hemingway\"))\n",
    "# Should return the string \"Name: Hemingway, Ernest\"\n",
    "\n",
    "print(format_name(\"\", \"Madonna\"))\n",
    "# Should return the string \"Name: Madonna\"\n",
    "\n",
    "print(format_name(\"Voltaire\", \"\"))\n",
    "# Should return the string \"Name: Voltaire\"\n",
    "\n",
    "print(format_name(\"\", \"\"))\n",
    "# Should return an empty string"
   ]
  },
  {
   "cell_type": "markdown",
   "id": "74c140b7",
   "metadata": {},
   "source": [
    "### Question 7\n",
    "The longest_word function is used to compare 3 words. It should return the word with the most number of characters (and the first in the list when they have the same length). Fill in the blank to make this happen."
   ]
  },
  {
   "cell_type": "code",
   "execution_count": 8,
   "id": "faa3eb29",
   "metadata": {},
   "outputs": [
    {
     "name": "stdout",
     "output_type": "stream",
     "text": [
      "chair\n",
      "beyond\n",
      "notebook\n"
     ]
    }
   ],
   "source": [
    "def longest_word(word1, word2, word3):\n",
    "    if len(word1) >= len(word2) and len(word1) >= len(word3):\n",
    "        word = word1\n",
    "    elif len(word2) > len(word1) and len(word2) >= len(word3):\n",
    "        word = word2\n",
    "    else:\n",
    "        word = word3\n",
    "    return(word)\n",
    "\n",
    "print(longest_word(\"chair\", \"couch\", \"table\"))\n",
    "print(longest_word(\"bed\", \"bath\", \"beyond\"))\n",
    "print(longest_word(\"laptop\", \"notebook\", \"desktop\"))"
   ]
  },
  {
   "cell_type": "markdown",
   "id": "8cb95282",
   "metadata": {},
   "source": [
    "### Question 8\n",
    "What’s the output of this code?"
   ]
  },
  {
   "cell_type": "code",
   "execution_count": 10,
   "id": "41e138eb",
   "metadata": {},
   "outputs": [
    {
     "name": "stdout",
     "output_type": "stream",
     "text": [
      "10\n"
     ]
    }
   ],
   "source": [
    "def sum(x, y):\n",
    "        return(x+y)\n",
    "print(sum(sum(1,2), sum(3,4)))"
   ]
  },
  {
   "cell_type": "markdown",
   "id": "7dcdffe5",
   "metadata": {},
   "source": [
    "### Question 9\n",
    "What's the value of this Python expression?"
   ]
  },
  {
   "cell_type": "markdown",
   "id": "2c583dcc",
   "metadata": {},
   "source": [
    "Ans: True"
   ]
  },
  {
   "cell_type": "markdown",
   "id": "df9826d3",
   "metadata": {},
   "source": [
    "### Question 10\n",
    "The fractional_part function divides the numerator by the denominator, and returns just the fractional part (a number between 0 and 1). Complete the body of the function so that it returns the right number. <br />\n",
    "Note: Since division by 0 produces an error, if the denominator is 0, the function should return 0 instead of attempting the division."
   ]
  },
  {
   "cell_type": "code",
   "execution_count": 11,
   "id": "720e614f",
   "metadata": {},
   "outputs": [
    {
     "name": "stdout",
     "output_type": "stream",
     "text": [
      "0.0\n",
      "0.25\n",
      "0.6666666666666666\n",
      "0.5\n",
      "0\n",
      "0.0\n"
     ]
    }
   ],
   "source": [
    "def fractional_part(numerator, denominator):\n",
    "    # Operate with numerator and denominator to \n",
    "    if denominator != 0:\n",
    "        return (numerator%denominator)/denominator\n",
    "# keep just the fractional part of the quotient\n",
    "    return 0\n",
    "\n",
    "print(fractional_part(5, 5)) # Should be 0\n",
    "print(fractional_part(5, 4)) # Should be 0.25\n",
    "print(fractional_part(5, 3)) # Should be 0.66...\n",
    "print(fractional_part(5, 2)) # Should be 0.5\n",
    "print(fractional_part(5, 0)) # Should be 0\n",
    "print(fractional_part(0, 5)) # Should be 0"
   ]
  }
 ],
 "metadata": {
  "kernelspec": {
   "display_name": "Python 3",
   "language": "python",
   "name": "python3"
  },
  "language_info": {
   "codemirror_mode": {
    "name": "ipython",
    "version": 3
   },
   "file_extension": ".py",
   "mimetype": "text/x-python",
   "name": "python",
   "nbconvert_exporter": "python",
   "pygments_lexer": "ipython3",
   "version": "3.8.8"
  }
 },
 "nbformat": 4,
 "nbformat_minor": 5
}
