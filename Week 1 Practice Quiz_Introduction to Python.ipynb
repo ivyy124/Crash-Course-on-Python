{
 "cells": [
  {
   "cell_type": "markdown",
   "id": "f0799e04",
   "metadata": {},
   "source": [
    "### Question 1\n",
    "Fill in the correct Python command to put “My first Python program” onto the screen."
   ]
  },
  {
   "cell_type": "code",
   "execution_count": 1,
   "id": "ee9c6317",
   "metadata": {},
   "outputs": [
    {
     "name": "stdout",
     "output_type": "stream",
     "text": [
      "My first Python program\n"
     ]
    }
   ],
   "source": [
    "print(\"My first Python program\")"
   ]
  },
  {
   "cell_type": "markdown",
   "id": "ac53d356",
   "metadata": {},
   "source": [
    "### Question 2\n",
    "Python is an example of what type of programming language?"
   ]
  },
  {
   "cell_type": "markdown",
   "id": "d12c0895",
   "metadata": {},
   "source": [
    "Ans:\n",
    "General purpose scripting language "
   ]
  },
  {
   "cell_type": "markdown",
   "id": "45bdde10",
   "metadata": {},
   "source": [
    "### Question 3\n",
    "Convert this Bash command into Python:"
   ]
  },
  {
   "cell_type": "code",
   "execution_count": 2,
   "id": "70d14234",
   "metadata": {},
   "outputs": [
    {
     "name": "stdout",
     "output_type": "stream",
     "text": [
      "Have a nice day\n"
     ]
    }
   ],
   "source": [
    "print('Have a nice day')"
   ]
  },
  {
   "cell_type": "markdown",
   "id": "0893a7e1",
   "metadata": {},
   "source": [
    "### Question 4\n",
    "Fill in the correct Python commands to put “This is fun!” onto the screen 5 times. "
   ]
  },
  {
   "cell_type": "code",
   "execution_count": 3,
   "id": "eebde685",
   "metadata": {},
   "outputs": [
    {
     "name": "stdout",
     "output_type": "stream",
     "text": [
      "This is fun!\n",
      "This is fun!\n",
      "This is fun!\n",
      "This is fun!\n",
      "This is fun!\n"
     ]
    }
   ],
   "source": [
    "for i in range(5):\n",
    "  print(\"This is fun!\")"
   ]
  },
  {
   "cell_type": "markdown",
   "id": "ffe127ff",
   "metadata": {},
   "source": [
    "### Question 5\n",
    "Select the Python code snippet that corresponds to the following Javascript snippet:"
   ]
  },
  {
   "cell_type": "code",
   "execution_count": 4,
   "id": "f44c9934",
   "metadata": {},
   "outputs": [
    {
     "ename": "SyntaxError",
     "evalue": "invalid syntax (<ipython-input-4-c22b7616c94f>, line 1)",
     "output_type": "error",
     "traceback": [
      "\u001b[0;36m  File \u001b[0;32m\"<ipython-input-4-c22b7616c94f>\"\u001b[0;36m, line \u001b[0;32m1\u001b[0m\n\u001b[0;31m    for (let i = 0; i < 10; i++) {\u001b[0m\n\u001b[0m             ^\u001b[0m\n\u001b[0;31mSyntaxError\u001b[0m\u001b[0;31m:\u001b[0m invalid syntax\n"
     ]
    }
   ],
   "source": [
    "for (let i = 0; i < 10; i++) {\n",
    "        console.log(i);\n",
    "    }"
   ]
  },
  {
   "cell_type": "code",
   "execution_count": 5,
   "id": "037450f3",
   "metadata": {},
   "outputs": [
    {
     "name": "stdout",
     "output_type": "stream",
     "text": [
      "0\n",
      "1\n",
      "2\n",
      "3\n",
      "4\n",
      "5\n",
      "6\n",
      "7\n",
      "8\n",
      "9\n"
     ]
    }
   ],
   "source": [
    "for i in range(10):\n",
    "  print(i)"
   ]
  }
 ],
 "metadata": {
  "kernelspec": {
   "display_name": "Python 3",
   "language": "python",
   "name": "python3"
  },
  "language_info": {
   "codemirror_mode": {
    "name": "ipython",
    "version": 3
   },
   "file_extension": ".py",
   "mimetype": "text/x-python",
   "name": "python",
   "nbconvert_exporter": "python",
   "pygments_lexer": "ipython3",
   "version": "3.8.8"
  }
 },
 "nbformat": 4,
 "nbformat_minor": 5
}
